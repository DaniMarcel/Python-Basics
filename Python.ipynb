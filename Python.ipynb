{
 "cells": [
  {
   "cell_type": "markdown",
   "id": "75f64ce3",
   "metadata": {},
   "source": [
    "# Python Tutorial"
   ]
  },
  {
   "cell_type": "markdown",
   "id": "c691dae1",
   "metadata": {},
   "source": [
    "### Variables en Python"
   ]
  },
  {
   "cell_type": "code",
   "execution_count": 2,
   "id": "9d01c248",
   "metadata": {},
   "outputs": [
    {
     "name": "stdout",
     "output_type": "stream",
     "text": [
      "22\n"
     ]
    }
   ],
   "source": [
    "x = 22\n",
    "\n",
    "print(x)"
   ]
  },
  {
   "cell_type": "code",
   "execution_count": 3,
   "id": "48ea9baa",
   "metadata": {},
   "outputs": [
    {
     "data": {
      "text/plain": [
       "int"
      ]
     },
     "execution_count": 3,
     "metadata": {},
     "output_type": "execute_result"
    }
   ],
   "source": [
    "type(x)"
   ]
  },
  {
   "cell_type": "code",
   "execution_count": 4,
   "id": "adec06bd",
   "metadata": {},
   "outputs": [
    {
     "name": "stdout",
     "output_type": "stream",
     "text": [
      "Chocolate\n"
     ]
    }
   ],
   "source": [
    "y = \"Chocolate\"\n",
    "\n",
    "print(y)"
   ]
  },
  {
   "cell_type": "code",
   "execution_count": 4,
   "id": "d2ee29d0",
   "metadata": {},
   "outputs": [
    {
     "data": {
      "text/plain": [
       "str"
      ]
     },
     "execution_count": 4,
     "metadata": {},
     "output_type": "execute_result"
    }
   ],
   "source": [
    "type(y)"
   ]
  },
  {
   "cell_type": "code",
   "execution_count": 6,
   "id": "43c61e80",
   "metadata": {},
   "outputs": [
    {
     "name": "stdout",
     "output_type": "stream",
     "text": [
      "Chocolate\n",
      "Choco\n"
     ]
    }
   ],
   "source": [
    "y = \"Chocolate\"\n",
    "Y = \"Choco\"\n",
    "\n",
    "print(y)\n",
    "print(Y)"
   ]
  },
  {
   "cell_type": "markdown",
   "id": "a531f92d",
   "metadata": {},
   "source": [
    "#### Multiples Variables"
   ]
  },
  {
   "cell_type": "code",
   "execution_count": 7,
   "id": "1ebbb08a",
   "metadata": {},
   "outputs": [
    {
     "name": "stdout",
     "output_type": "stream",
     "text": [
      "Chocolate Vainilla Caca\n"
     ]
    }
   ],
   "source": [
    "x,y,z = 'Chocolate', 'Vainilla', 'Caca'\n",
    "\n",
    "print(x,y,z)"
   ]
  },
  {
   "cell_type": "code",
   "execution_count": 8,
   "id": "2ff5f0b4",
   "metadata": {},
   "outputs": [
    {
     "name": "stdout",
     "output_type": "stream",
     "text": [
      "Chocolatete Chocolatete Chocolatete\n"
     ]
    }
   ],
   "source": [
    "x = y = z = 'Chocolatete'\n",
    "\n",
    "print(x,y,z)"
   ]
  },
  {
   "cell_type": "markdown",
   "id": "8c355604",
   "metadata": {},
   "source": [
    "#### Lista de Variables"
   ]
  },
  {
   "cell_type": "code",
   "execution_count": 9,
   "id": "2963a915",
   "metadata": {},
   "outputs": [
    {
     "name": "stdout",
     "output_type": "stream",
     "text": [
      "Chocolate Vainilla Caca\n"
     ]
    }
   ],
   "source": [
    "ice_cream = ['Chocolate', 'Vainilla', 'Caca']\n",
    "\n",
    "x,y,z = ice_cream\n",
    "\n",
    "print(x,y,z)"
   ]
  },
  {
   "cell_type": "markdown",
   "id": "a3e5d8d6",
   "metadata": {},
   "source": [
    "#### Nombrando Variables"
   ]
  },
  {
   "cell_type": "code",
   "execution_count": null,
   "id": "23ae6b99",
   "metadata": {},
   "outputs": [],
   "source": [
    "# Camel Case\n",
    "testVariableCase = 'Chocolate'"
   ]
  },
  {
   "cell_type": "code",
   "execution_count": null,
   "id": "ad6b11f1",
   "metadata": {},
   "outputs": [],
   "source": [
    "# Pascal Case\n",
    "TestVariableCase = 'Chocolate'"
   ]
  },
  {
   "cell_type": "code",
   "execution_count": null,
   "id": "174721ca",
   "metadata": {},
   "outputs": [],
   "source": [
    "# Snake Case\n",
    "test_variable_case = 'Chocolate'"
   ]
  },
  {
   "cell_type": "code",
   "execution_count": null,
   "id": "708ea399",
   "metadata": {},
   "outputs": [],
   "source": [
    "# Tambien veras\n",
    "testvar = 'Chocolate'\n",
    "test_var = 'Chocolate'\n",
    "_test_var = 'Chocolate'\n",
    "testVar = 'Chocolate'\n",
    "TestVar = 'Chocolate'\n",
    "testvar2 = 'Chocolate'"
   ]
  },
  {
   "cell_type": "markdown",
   "id": "0573ecee",
   "metadata": {},
   "source": [
    "#### Operadores con Variables"
   ]
  },
  {
   "cell_type": "code",
   "execution_count": 10,
   "id": "f7b99bec",
   "metadata": {},
   "outputs": [
    {
     "name": "stdout",
     "output_type": "stream",
     "text": [
      "Chocolate es mi favorito.\n"
     ]
    }
   ],
   "source": [
    "x = 'Chocolate es mi favorito' + '.'\n",
    "\n",
    "print(x)"
   ]
  },
  {
   "cell_type": "code",
   "execution_count": 11,
   "id": "516930a1",
   "metadata": {},
   "outputs": [
    {
     "name": "stdout",
     "output_type": "stream",
     "text": [
      "10\n"
     ]
    }
   ],
   "source": [
    "y = 5 + 5\n",
    "\n",
    "print(y)"
   ]
  },
  {
   "cell_type": "code",
   "execution_count": 14,
   "id": "b10df0ce",
   "metadata": {},
   "outputs": [
    {
     "name": "stdout",
     "output_type": "stream",
     "text": [
      "Chocolate es mejor\n"
     ]
    }
   ],
   "source": [
    "x = 'Chocolate'\n",
    "y = ' es'\n",
    "z = ' mejor'\n",
    "\n",
    "print(x+y+z)"
   ]
  },
  {
   "cell_type": "code",
   "execution_count": 15,
   "id": "f50495bd",
   "metadata": {},
   "outputs": [
    {
     "name": "stdout",
     "output_type": "stream",
     "text": [
      "6\n"
     ]
    }
   ],
   "source": [
    "x = 1\n",
    "y = 2\n",
    "z = 3\n",
    "\n",
    "print(x+y+z)"
   ]
  },
  {
   "cell_type": "code",
   "execution_count": 16,
   "id": "6e36467e",
   "metadata": {},
   "outputs": [
    {
     "name": "stdout",
     "output_type": "stream",
     "text": [
      "Chocolate 2\n"
     ]
    }
   ],
   "source": [
    "x = 'Chocolate'\n",
    "y = 2\n",
    "\n",
    "print(x,y)"
   ]
  }
 ],
 "metadata": {
  "kernelspec": {
   "display_name": "Python 3 (ipykernel)",
   "language": "python",
   "name": "python3"
  },
  "language_info": {
   "codemirror_mode": {
    "name": "ipython",
    "version": 3
   },
   "file_extension": ".py",
   "mimetype": "text/x-python",
   "name": "python",
   "nbconvert_exporter": "python",
   "pygments_lexer": "ipython3",
   "version": "3.12.1"
  }
 },
 "nbformat": 4,
 "nbformat_minor": 5
}
