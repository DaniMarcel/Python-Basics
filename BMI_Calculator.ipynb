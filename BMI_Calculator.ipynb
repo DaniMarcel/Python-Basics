{
 "cells": [
  {
   "cell_type": "markdown",
   "metadata": {},
   "source": [
    "# BMI Calculator"
   ]
  },
  {
   "cell_type": "code",
   "execution_count": 7,
   "metadata": {},
   "outputs": [
    {
     "name": "stdout",
     "output_type": "stream",
     "text": [
      "18.75\n",
      "Daniel Marcel, you are normal weight.\n"
     ]
    }
   ],
   "source": [
    "nombre = input('Ingresa tu nombre: ')\n",
    "\n",
    "peso = int(input('Ingresa tu peso en k: '))\n",
    "\n",
    "altura = float(input('Ingresa tu altura en m: '))\n",
    "\n",
    "IMC = (peso) / (altura * 2)\n",
    "print(IMC)\n",
    "\n",
    "if IMC>0:\n",
    "    if(IMC<18.5):\n",
    "        print(nombre +\", you are underwight.\")\n",
    "    elif (IMC<=24.9):\n",
    "        print(nombre +\", you are normal weight.\")\n",
    "    elif (IMC<29.9):\n",
    "        print(nombre +\", you are overweight. You need to exercise more and stop sitting and writing so many python tutorials.\")\n",
    "    elif (IMC<34.9):\n",
    "        print(nombre +\", you are obese.\")\n",
    "    elif (IMC<39.9):\n",
    "        print(nombre +\", you are severely obese.\")\n",
    "    else:\n",
    "        print(nombre +\", you are morbidly obese.\")\n",
    "else:\n",
    "    print(\"Enter valid input\")\n"
   ]
  },
  {
   "cell_type": "code",
   "execution_count": null,
   "metadata": {},
   "outputs": [],
   "source": []
  }
 ],
 "metadata": {
  "kernelspec": {
   "display_name": "Python 3",
   "language": "python",
   "name": "python3"
  },
  "language_info": {
   "codemirror_mode": {
    "name": "ipython",
    "version": 3
   },
   "file_extension": ".py",
   "mimetype": "text/x-python",
   "name": "python",
   "nbconvert_exporter": "python",
   "pygments_lexer": "ipython3",
   "version": "3.12.1"
  }
 },
 "nbformat": 4,
 "nbformat_minor": 2
}
