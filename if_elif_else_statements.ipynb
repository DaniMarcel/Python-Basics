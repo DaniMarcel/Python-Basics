{
 "cells": [
  {
   "cell_type": "markdown",
   "metadata": {},
   "source": [
    "# If - Elif - Else Statements"
   ]
  },
  {
   "cell_type": "code",
   "execution_count": 1,
   "metadata": {},
   "outputs": [
    {
     "name": "stdout",
     "output_type": "stream",
     "text": [
      "Funciona\n"
     ]
    }
   ],
   "source": [
    "if 25 > 10:\n",
    "    print('Funciona')"
   ]
  },
  {
   "cell_type": "code",
   "execution_count": 4,
   "metadata": {},
   "outputs": [
    {
     "name": "stdout",
     "output_type": "stream",
     "text": [
      "Funciona\n"
     ]
    }
   ],
   "source": [
    "if 25 > 10:\n",
    "    print('Funciona')\n",
    "else:\n",
    "    print('No funciona')"
   ]
  },
  {
   "cell_type": "code",
   "execution_count": 7,
   "metadata": {},
   "outputs": [
    {
     "name": "stdout",
     "output_type": "stream",
     "text": [
      "Funciona el elif3\n"
     ]
    }
   ],
   "source": [
    "if 25 < 10:\n",
    "    print('Funciona')\n",
    "elif 25 < 20:\n",
    "    print('Funciona el elif')\n",
    "elif 25 < 21:\n",
    "    print('Funciona el elif2')\n",
    "elif 25 < 40:\n",
    "    print('Funciona el elif3')\n",
    "elif 25 < 50:\n",
    "    print('Funciona el elif4')\n",
    "else:\n",
    "    print('No funciona')"
   ]
  },
  {
   "cell_type": "code",
   "execution_count": 8,
   "metadata": {},
   "outputs": [
    {
     "name": "stdout",
     "output_type": "stream",
     "text": [
      "Funciona\n"
     ]
    }
   ],
   "source": [
    "if (25 < 10) or (1 < 3):\n",
    "    print('Funciona')\n",
    "elif 25 < 20:\n",
    "    print('Funciona el elif')\n",
    "elif 25 < 21:\n",
    "    print('Funciona el elif2')\n",
    "elif 25 < 40:\n",
    "    print('Funciona el elif3')\n",
    "elif 25 < 50:\n",
    "    print('Funciona el elif4')\n",
    "else:\n",
    "    print('No funciona')"
   ]
  },
  {
   "cell_type": "code",
   "execution_count": 9,
   "metadata": {},
   "outputs": [
    {
     "name": "stdout",
     "output_type": "stream",
     "text": [
      "No funciona\n"
     ]
    }
   ],
   "source": [
    "print('Funciona') if 10 > 30 else print('No funciona')"
   ]
  },
  {
   "cell_type": "code",
   "execution_count": 11,
   "metadata": {},
   "outputs": [
    {
     "name": "stdout",
     "output_type": "stream",
     "text": [
      "Funciona\n",
      "El if anidado funciona\n"
     ]
    }
   ],
   "source": [
    "if (25 < 10) or (1 < 3):\n",
    "    print('Funciona')\n",
    "    if 10 > 5:\n",
    "        print('El if anidado funciona')\n",
    "elif 25 < 20:\n",
    "    print('Funciona el elif')\n",
    "elif 25 < 21:\n",
    "    print('Funciona el elif2')\n",
    "elif 25 < 40:\n",
    "    print('Funciona el elif3')\n",
    "elif 25 < 50:\n",
    "    print('Funciona el elif4')\n",
    "else:\n",
    "    print('No funciona')"
   ]
  },
  {
   "cell_type": "markdown",
   "metadata": {},
   "source": []
  }
 ],
 "metadata": {
  "kernelspec": {
   "display_name": "Python 3",
   "language": "python",
   "name": "python3"
  },
  "language_info": {
   "codemirror_mode": {
    "name": "ipython",
    "version": 3
   },
   "file_extension": ".py",
   "mimetype": "text/x-python",
   "name": "python",
   "nbconvert_exporter": "python",
   "pygments_lexer": "ipython3",
   "version": "3.12.1"
  }
 },
 "nbformat": 4,
 "nbformat_minor": 2
}
